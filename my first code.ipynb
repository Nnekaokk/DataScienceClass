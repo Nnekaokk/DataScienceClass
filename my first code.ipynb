{
 "cells": [
  {
   "cell_type": "code",
   "execution_count": 6,
   "id": "4109daa0-8278-4169-8126-8daafa215a04",
   "metadata": {},
   "outputs": [
    {
     "name": "stdout",
     "output_type": "stream",
     "text": [
      "hello\n"
     ]
    }
   ],
   "source": [
    "print(\"hello\")"
   ]
  },
  {
   "cell_type": "markdown",
   "id": "b6717704-dde8-4a06-b7df-6cef116731c7",
   "metadata": {},
   "source": [
    "# week 2"
   ]
  },
  {
   "cell_type": "code",
   "execution_count": null,
   "id": "5a480779-40cf-4782-a725-425cb57d0536",
   "metadata": {},
   "outputs": [],
   "source": []
  },
  {
   "cell_type": "code",
   "execution_count": 7,
   "id": "29dda650",
   "metadata": {},
   "outputs": [],
   "source": [
    "#hello\n",
    "\n"
   ]
  },
  {
   "cell_type": "code",
   "execution_count": 8,
   "id": "cb255d3d",
   "metadata": {},
   "outputs": [
    {
     "name": "stdout",
     "output_type": "stream",
     "text": [
      "homework\n"
     ]
    }
   ],
   "source": [
    "print(\"homework\")"
   ]
  },
  {
   "cell_type": "code",
   "execution_count": 9,
   "id": "f4554d6c",
   "metadata": {},
   "outputs": [],
   "source": [
    "# first class"
   ]
  },
  {
   "cell_type": "markdown",
   "id": "a7c6c7d2",
   "metadata": {},
   "source": []
  },
  {
   "cell_type": "markdown",
   "id": "23f1db9b",
   "metadata": {},
   "source": []
  },
  {
   "cell_type": "markdown",
   "id": "7406d165",
   "metadata": {},
   "source": [
    "# hello\n"
   ]
  },
  {
   "cell_type": "code",
   "execution_count": 10,
   "id": "d67ddd1e",
   "metadata": {},
   "outputs": [
    {
     "name": "stdout",
     "output_type": "stream",
     "text": [
      "David isa good boy\n"
     ]
    }
   ],
   "source": [
    "print('David isa good boy')"
   ]
  }
 ],
 "metadata": {
  "kernelspec": {
   "display_name": "Python 3 (ipykernel)",
   "language": "python",
   "name": "python3"
  },
  "language_info": {
   "codemirror_mode": {
    "name": "ipython",
    "version": 3
   },
   "file_extension": ".py",
   "mimetype": "text/x-python",
   "name": "python",
   "nbconvert_exporter": "python",
   "pygments_lexer": "ipython3",
   "version": "3.11.7"
  }
 },
 "nbformat": 4,
 "nbformat_minor": 5
}
